{
  "nbformat": 4,
  "nbformat_minor": 0,
  "metadata": {
    "colab": {
      "provenance": [],
      "authorship_tag": "ABX9TyMLUoJKwY4V6BhNckHZ5Jsw",
      "include_colab_link": true
    },
    "kernelspec": {
      "name": "python3",
      "display_name": "Python 3"
    },
    "language_info": {
      "name": "python"
    }
  },
  "cells": [
    {
      "cell_type": "markdown",
      "metadata": {
        "id": "view-in-github",
        "colab_type": "text"
      },
      "source": [
        "<a href=\"https://colab.research.google.com/github/Eduardoarteagal/PMD-Taller2_2P/blob/main/Taller_Pyspark_(transformaciones_acciones).ipynb\" target=\"_parent\"><img src=\"https://colab.research.google.com/assets/colab-badge.svg\" alt=\"Open In Colab\"/></a>"
      ]
    },
    {
      "cell_type": "code",
      "execution_count": null,
      "metadata": {
        "colab": {
          "base_uri": "https://localhost:8080/"
        },
        "id": "gObZMksj4sLJ",
        "outputId": "356a378d-4fbb-4e70-a6b4-778cd320ba1f"
      },
      "outputs": [
        {
          "output_type": "stream",
          "name": "stdout",
          "text": [
            "Collecting pyspark\n",
            "  Downloading pyspark-3.5.1.tar.gz (317.0 MB)\n",
            "\u001b[2K     \u001b[90m━━━━━━━━━━━━━━━━━━━━━━━━━━━━━━━━━━━━━━━━\u001b[0m \u001b[32m317.0/317.0 MB\u001b[0m \u001b[31m3.1 MB/s\u001b[0m eta \u001b[36m0:00:00\u001b[0m\n",
            "\u001b[?25h  Preparing metadata (setup.py) ... \u001b[?25l\u001b[?25hdone\n",
            "Requirement already satisfied: py4j==0.10.9.7 in /usr/local/lib/python3.10/dist-packages (from pyspark) (0.10.9.7)\n",
            "Building wheels for collected packages: pyspark\n",
            "  Building wheel for pyspark (setup.py) ... \u001b[?25l\u001b[?25hdone\n",
            "  Created wheel for pyspark: filename=pyspark-3.5.1-py2.py3-none-any.whl size=317488491 sha256=bd314433a029779ffebf651701af3b7b91f192752672450f63fa3011915e7d71\n",
            "  Stored in directory: /root/.cache/pip/wheels/80/1d/60/2c256ed38dddce2fdd93be545214a63e02fbd8d74fb0b7f3a6\n",
            "Successfully built pyspark\n",
            "Installing collected packages: pyspark\n",
            "Successfully installed pyspark-3.5.1\n"
          ]
        }
      ],
      "source": [
        "!pip install pyspark"
      ]
    },
    {
      "cell_type": "markdown",
      "source": [
        "Realizar lo siguiente:\n",
        "\n",
        "A partir del fichero de [El Quijote]\n",
        "\n",
        "Crear un RDD a partir del fichero y crea una lista con todas las palabras del documento.\n",
        "\n",
        " * ¿Cuantas veces aparece la palabra Dulcinea (independientemente de si está en mayúsculas o minúsculas)? ¿Y Rocinante? (86 y 120 ocurrencias respectivamente)\n",
        "\n",
        " * Devuelve una lista ordenada según el número de veces que sale cada palabra de más a menos (las primeras ocurrencias deben ser [('que', 10731), ('de', 9035), ('y', 8668), ('la', 5014), ...)."
      ],
      "metadata": {
        "id": "Az0GlfkV-CCp"
      }
    },
    {
      "cell_type": "code",
      "source": [
        "from pyspark.sql import SparkSession\n",
        "from pyspark import SparkContext, SparkConf\n",
        "import re # Import the 're' module for regular expression operations\n",
        "\n",
        "\n",
        "conf = SparkConf().setAppName(\"Taller pyspark transformaciones y acciones\").setMaster(\"local[*]\")\n",
        "sc = SparkContext(conf=conf)\n",
        "file_path = \"/content/El Quijote.txt\"\n",
        "rdd_Local = sc.textFile(\"/content/El Quijote.txt\")\n",
        "palabras_rdd = rdd_Local.flatMap(lambda line: re.findall(r'\\b\\w+\\b', line.lower()))\n",
        "\n"
      ],
      "metadata": {
        "id": "gQxzzwnC475k"
      },
      "execution_count": null,
      "outputs": []
    },
    {
      "cell_type": "code",
      "source": [
        "#Conteo de Dulcinea\n",
        "count_dulcinea_rdd = palabras_rdd.filter(lambda word: word.lower() == 'dulcinea').count()\n",
        "print(\"Apariciones de Dulcinea:\" , count_dulcinea_rdd)\n",
        "#Conteo de Rocinante\n",
        "count_rocinante_rdd = palabras_rdd.filter(lambda word: word.lower() == 'rocinante').count()\n",
        "print(\"Apariciones de Rocinante:\" , count_rocinante_rdd)"
      ],
      "metadata": {
        "colab": {
          "base_uri": "https://localhost:8080/"
        },
        "collapsed": true,
        "id": "zBdvDX5c5pS9",
        "outputId": "e7a3c3a8-bd31-4864-8981-56e324ccab5a"
      },
      "execution_count": null,
      "outputs": [
        {
          "output_type": "stream",
          "name": "stdout",
          "text": [
            "Apariciones de Dulcinea: 90\n",
            "Apariciones de Rocinante: 120\n"
          ]
        }
      ]
    },
    {
      "cell_type": "code",
      "source": [
        "# Contar las apariciones de cada palabra\n",
        "palabras_contadas_rdd = palabras_rdd.map(lambda word: (word.lower(), 1)).reduceByKey(lambda a, b: a + b)\n",
        "\n",
        "# Ordenar las palabras por el número de apariciones de más a menos\n",
        "palabras_ordenadas_rdd = palabras_contadas_rdd.map(lambda x: (x[1], x[0])).sortByKey(False)\n",
        "\n",
        "# Obtener las palabras y sus conteos como una lista\n",
        "palabras_ordenadas = palabras_ordenadas_rdd.map(lambda x: (x[1], x[0])).collect()\n",
        "print(\"Lista de palabras ordenadas por frecuencia:\", palabras_ordenadas[:10])  # Muestra las primeras 10\n"
      ],
      "metadata": {
        "colab": {
          "base_uri": "https://localhost:8080/"
        },
        "id": "rSZ23-Xb9Hzd",
        "outputId": "46718345-4b11-458a-a59f-17d272ca5fbb"
      },
      "execution_count": null,
      "outputs": [
        {
          "output_type": "stream",
          "name": "stdout",
          "text": [
            "Lista de palabras ordenadas por frecuencia: [('que', 10741), ('de', 9046), ('y', 8690), ('la', 5015), ('a', 4821), ('en', 4050), ('el', 3858), ('no', 3135), ('se', 2382), ('los', 2150)]\n"
          ]
        }
      ]
    },
    {
      "cell_type": "code",
      "source": [
        "sc.stop()"
      ],
      "metadata": {
        "id": "m4XiOFF6_mJg"
      },
      "execution_count": null,
      "outputs": []
    }
  ]
}